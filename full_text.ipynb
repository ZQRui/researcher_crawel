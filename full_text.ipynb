{
 "cells": [
  {
   "cell_type": "code",
   "execution_count": 1,
   "metadata": {},
   "outputs": [],
   "source": [
    "import requests\n",
    "from bs4 import BeautifulSoup\n",
    "import re\n",
    "import json\n",
    "from os import path\n",
    "import os\n",
    "from urllib import parse"
   ]
  },
  {
   "cell_type": "code",
   "execution_count": 2,
   "metadata": {},
   "outputs": [],
   "source": [
    "def load_json(json_fname):\n",
    "    with open(json_fname,encoding=\"utf8\") as fp:\n",
    "        return json.load(fp)"
   ]
  },
  {
   "cell_type": "code",
   "execution_count": 3,
   "metadata": {},
   "outputs": [],
   "source": [
    "title_key=lambda title:re.sub(\"\\W\",\"\",title.lower(),)"
   ]
  },
  {
   "cell_type": "markdown",
   "metadata": {},
   "source": [
    "# save link to file"
   ]
  },
  {
   "cell_type": "code",
   "execution_count": 182,
   "metadata": {},
   "outputs": [
    {
     "data": {
      "text/plain": [
       "{'title_key': {'title': str,\n",
       "  'author': [str, str],\n",
       "  'file_name': str,\n",
       "  'conf': str}}"
      ]
     },
     "execution_count": 182,
     "metadata": {},
     "output_type": "execute_result"
    }
   ],
   "source": [
    "{\n",
    "    \"title_key\":{\n",
    "        \"title\":str,\n",
    "        \"author\":[\n",
    "            str,\n",
    "            str,\n",
    "        ],\n",
    "        \"file_name\":str,\n",
    "        \"conf\":str\n",
    "    }\n",
    "}"
   ]
  },
  {
   "cell_type": "code",
   "execution_count": 176,
   "metadata": {},
   "outputs": [],
   "source": [
    "def parse_eccv2018():\n",
    "    conf=\"ECCV2018\"\n",
    "    assert isinstance(conf,str)\n",
    "    page=requests.get(f\"http://openaccess.thecvf.com/{conf}.py\")\n",
    "    assert page.ok\n",
    "    soup=BeautifulSoup(page.content,\"lxml\")\n",
    "    dl=soup.select_one(\"dl\")\n",
    "\n",
    "    title_list=[a.text for a in  dl.select(\"dt > a\")]\n",
    "\n",
    "    authors_list=[[au.attrs[\"value\"] for au in dd.select(\"form > input\")]  for dd in dl.select(\"dt + dd\")]\n",
    "\n",
    "    dd=dl.select(\"dt + dd\")[0]\n",
    "\n",
    "    link_list=[ parse.urljoin(\"http://openaccess.thecvf.com\",a.attrs[\"href\"]) for a in dl.select(\"dd + dd > a\")]\n",
    "    file_name_list=[path.split(link)[-1] for link in link_list ]\n",
    "    ll=map(lambda t,a,l,fn:dict(title=t,authors=a,link=l,conf=conf,file_name=fn) , title_list,authors_list,link_list,file_name_list)\n",
    "    ll=list(ll)\n",
    "    \n",
    "    return ll"
   ]
  },
  {
   "cell_type": "code",
   "execution_count": 177,
   "metadata": {},
   "outputs": [],
   "source": [
    "ll=[]\n",
    "# ll+=parse(\"ECCV2016\")\n",
    "ll+=parse_eccv2018()"
   ]
  },
  {
   "cell_type": "code",
   "execution_count": 168,
   "metadata": {},
   "outputs": [],
   "source": [
    "ll.append({\n",
    "    \"title\": \"Summarizing First-Person Videos from Third Persons' Points of Views\",\n",
    "    \"authors\": [\n",
    "      \"HSUAN-I HO\",\n",
    "      \"Wei-Chen Chiu\",\n",
    "      \"Yu-Chiang Frank Wang\"\n",
    "    ],\n",
    "    \"link\": \"http://openaccess.thecvf.com/content_ECCV_2018/papers/HSUAN-I_HO_Summarizing_First-Person_Videos_ECCV_2018_paper.pdf\",\n",
    "    \"file_name\":\"HSUAN-I_HO_Summarizing_First-Person_Videos_ECCV_2018_paper.pdf\",\n",
    "    \"conf\": \"ECCV2018\"}\n",
    "  )"
   ]
  },
  {
   "cell_type": "code",
   "execution_count": 169,
   "metadata": {},
   "outputs": [],
   "source": [
    "with open(\"links.json\",\"w\") as fp:\n",
    "    json.dump({\"l\":ll},fp,indent=2)"
   ]
  },
  {
   "cell_type": "markdown",
   "metadata": {},
   "source": [
    "# 下载"
   ]
  },
  {
   "cell_type": "code",
   "execution_count": 7,
   "metadata": {},
   "outputs": [],
   "source": [
    "full_text_dir=\"full_text\"\n",
    "if not path.exists(full_text_dir):\n",
    "    os.mkdir(full_text_dir)"
   ]
  },
  {
   "cell_type": "code",
   "execution_count": 35,
   "metadata": {},
   "outputs": [],
   "source": [
    "def download_link_d(link):\n",
    "    fpath=path.join(full_text_dir,link[\"file_name\"])\n",
    "    if not path.exist(fpath):\n",
    "        try:\n",
    "            res=requests.get(link[\"link\"],proxies={\"http\":\"127.0.0.1:10800\"})\n",
    "            assert res.ok\n",
    "            with open(fpath,\"wb\") as fp:\n",
    "                fp.write(res.content)\n",
    "        except Exception as e:\n",
    "            print(f\"ERROR: {link} {e}\")\n",
    "            raise\n",
    "        else:\n",
    "            print(link[\"title\"])\n",
    "            link[\"downloaded\"]=True\n",
    "    else:\n",
    "        link[\"downloaded\"]=True\n",
    "    return link"
   ]
  },
  {
   "cell_type": "code",
   "execution_count": 10,
   "metadata": {},
   "outputs": [],
   "source": [
    "def download(url,fpath):\n",
    "    try:\n",
    "        res=requests.get(url,proxies={\"http\":\"127.0.0.1:10800\"})\n",
    "        assert res.ok\n",
    "        with open(fpath,\"wb\") as fp:\n",
    "            fp.write(res.content)\n",
    "    except Exception as e:\n",
    "        print(f\"ERROR: {url} {e}\")\n",
    "        raise\n",
    "    else:\n",
    "        print(url)\n",
    "#             link[\"downloaded\"]=True"
   ]
  },
  {
   "cell_type": "code",
   "execution_count": 36,
   "metadata": {},
   "outputs": [],
   "source": [
    "from multiprocessing.dummy import Pool"
   ]
  },
  {
   "cell_type": "code",
   "execution_count": 39,
   "metadata": {},
   "outputs": [],
   "source": [
    "ll=load_json(\"links.json\")[\"l\"]"
   ]
  },
  {
   "cell_type": "code",
   "execution_count": 40,
   "metadata": {},
   "outputs": [],
   "source": [
    "pool=Pool(32)\n",
    "for link in ll:\n",
    "    if not link.get(\"downloaded\",False):\n",
    "        pool.apply_async(download_link_d,(link,))\n",
    "pool.close()\n",
    "pool.join()"
   ]
  },
  {
   "cell_type": "code",
   "execution_count": 17,
   "metadata": {},
   "outputs": [],
   "source": [
    "with open(\"links.json\",\"w\") as fp:\n",
    "    json.dump({\"l\":ll},fp,indent=2)"
   ]
  },
  {
   "cell_type": "code",
   "execution_count": null,
   "metadata": {},
   "outputs": [],
   "source": [
    "ll"
   ]
  },
  {
   "cell_type": "markdown",
   "metadata": {},
   "source": [
    "# 存到映射"
   ]
  },
  {
   "cell_type": "code",
   "execution_count": 21,
   "metadata": {},
   "outputs": [],
   "source": [
    "links_map=dict()\n",
    "for link in ll:\n",
    "    links_map[title_key(link[\"title\"])]=link\n",
    "with open(\"links_map.json\",\"w\") as fp:\n",
    "    json.dump(links_map,fp,indent=2)"
   ]
  },
  {
   "cell_type": "markdown",
   "metadata": {},
   "source": [
    "# 处理中国的论文"
   ]
  },
  {
   "cell_type": "code",
   "execution_count": 4,
   "metadata": {},
   "outputs": [],
   "source": [
    "import shutil"
   ]
  },
  {
   "cell_type": "code",
   "execution_count": 5,
   "metadata": {},
   "outputs": [],
   "source": [
    "article_list=load_json(\"article_list.json\")[\"articles\"]"
   ]
  },
  {
   "cell_type": "code",
   "execution_count": 11,
   "metadata": {},
   "outputs": [
    {
     "name": "stdout",
     "output_type": "stream",
     "text": [
      "http://openaccess.thecvf.com/content_ECCV_2018/papers/Yinlong_Liu_Efficient_Global_Point_ECCV_2018_paper.pdf\n",
      "http://openaccess.thecvf.com/content_ECCV_2018/papers/Zehao_Huang_Data-Driven_Sparse_Structure_ECCV_2018_paper.pdf\n",
      "http://openaccess.thecvf.com/content_ECCV_2018/papers/Xiaoqing_Yin_FishEyeRecNet_A_Multi-Context_ECCV_2018_paper.pdf\n",
      "http://openaccess.thecvf.com/content_ECCV_2018/papers/Lipeng_Ke_Multi-Scale_Structure-Aware_Network_ECCV_2018_paper.pdf\n",
      "http://openaccess.thecvf.com/content_ECCV_2018/papers/Yifan_Sun_Beyond_Part_Models_ECCV_2018_paper.pdf\n",
      "http://openaccess.thecvf.com/content_ECCV_2018/papers/Ming_Sun_Multi-Attention_Multi-Class_Constraint_ECCV_2018_paper.pdf\n",
      "http://openaccess.thecvf.com/content_ECCV_2018/papers/Yidan_Zhou_HBE_Hand_Branch_ECCV_2018_paper.pdf\n",
      "http://openaccess.thecvf.com/content_ECCV_2018/papers/Dongqing_Zhang_Optimized_Quantization_for_ECCV_2018_paper.pdf\n",
      "http://openaccess.thecvf.com/content_ECCV_2018/papers/Gang_Zhang_Generative_Adversarial_Network_ECCV_2018_paper.pdf\n",
      "http://openaccess.thecvf.com/content_ECCV_2018/papers/Ge_Deep_Metric_Learning_ECCV_2018_paper.pdf\n",
      "http://openaccess.thecvf.com/content_ECCV_2018/papers/Bruce_Hou_Transferable_Adversarial_Perturbations_ECCV_2018_paper.pdf\n",
      "http://openaccess.thecvf.com/content_ECCV_2018/papers/Cheng_Wang_Mancs_A_Multi-task_ECCV_2018_paper.pdf\n",
      "http://openaccess.thecvf.com/content_ECCV_2018/papers/Chaojian_Yu_Hierarchical_Bilinear_Pooling_ECCV_2018_paper.pdf\n",
      "http://openaccess.thecvf.com/content_ECCV_2018/papers/Xiaofeng_Han_Single_Image_Water_ECCV_2018_paper.pdf\n",
      "http://openaccess.thecvf.com/content_ECCV_2018/papers/Yunlong_Wang_End-to-end_View_Synthesis_ECCV_2018_paper.pdf\n",
      "http://openaccess.thecvf.com/content_ECCV_2018/papers/Piotr_Koniusz_Museum_Exhibit_Identification_ECCV_2018_paper.pdf\n",
      "http://openaccess.thecvf.com/content_ECCV_2018/papers/Bo_Peng_Extreme_Network_Compression_ECCV_2018_paper.pdf\n",
      "http://openaccess.thecvf.com/content_ECCV_2018/papers/Dong_Su_Is_Robustness_the_ECCV_2018_paper.pdf\n",
      "http://openaccess.thecvf.com/content_ECCV_2018/papers/Haoshuo_Huang_Domain_transfer_through_ECCV_2018_paper.pdf\n",
      "http://openaccess.thecvf.com/content_ECCV_2018/papers/Wei_Liu_Learning_Efficient_Single-stage_ECCV_2018_paper.pdf\n",
      "http://openaccess.thecvf.com/content_ECCV_2018/papers/Peiliang_LI_Stereo_Vision-based_Semantic_ECCV_2018_paper.pdf\n",
      "http://openaccess.thecvf.com/content_ECCV_2018/papers/Hong-Min_Chu_Deep_Generative_Models_ECCV_2018_paper.pdf\n",
      "http://openaccess.thecvf.com/content_ECCV_2018/papers/Jiayuan_Gu_Learning_Region_Features_ECCV_2018_paper.pdf\n",
      "http://openaccess.thecvf.com/content_ECCV_2018/papers/Zheng_Dang_Eigendecomposition-free_Training_of_ECCV_2018_paper.pdf\n",
      "http://openaccess.thecvf.com/content_ECCV_2018/papers/Zhenfeng_Fan_Dense_Semantic_and_ECCV_2018_paper.pdf\n",
      "http://openaccess.thecvf.com/content_ECCV_2018/papers/Siqi_Liu_Remote_Photoplethysmography_Correspondence_ECCV_2018_paper.pdf\n",
      "http://openaccess.thecvf.com/content_ECCV_2018/papers/Xingang_Pan_Two_at_Once_ECCV_2018_paper.pdf\n",
      "http://openaccess.thecvf.com/content_ECCV_2018/papers/Shihao_Wu_Specular-to-Diffuse_Translation_for_ECCV_2018_paper.pdf\n",
      "http://openaccess.thecvf.com/content_ECCV_2018/papers/Baosheng_Yu_Correcting_the_Triplet_ECCV_2018_paper.pdf\n",
      "ERROR: http://openaccess.thecvf.com/content_ECCV_2018/papers/Fudong_Wang_Adaptively_Transforming_Graph_ECCV_2018_paper.pdf \n"
     ]
    },
    {
     "ename": "AssertionError",
     "evalue": "",
     "output_type": "error",
     "traceback": [
      "\u001b[1;31m---------------------------------------------------------------------------\u001b[0m",
      "\u001b[1;31mAssertionError\u001b[0m                            Traceback (most recent call last)",
      "\u001b[1;32m<ipython-input-11-cde22f07a02e>\u001b[0m in \u001b[0;36m<module>\u001b[1;34m()\u001b[0m\n\u001b[0;32m      8\u001b[0m         \u001b[0mdst\u001b[0m\u001b[1;33m=\u001b[0m\u001b[0mpath\u001b[0m\u001b[1;33m.\u001b[0m\u001b[0mjoin\u001b[0m\u001b[1;33m(\u001b[0m\u001b[0mtarget\u001b[0m\u001b[1;33m,\u001b[0m\u001b[0marticle\u001b[0m\u001b[1;33m[\u001b[0m\u001b[1;34m\"file_name\"\u001b[0m\u001b[1;33m]\u001b[0m\u001b[1;33m)\u001b[0m\u001b[1;33m\u001b[0m\u001b[0m\n\u001b[0;32m      9\u001b[0m         \u001b[1;32mif\u001b[0m \u001b[1;32mnot\u001b[0m \u001b[0mpath\u001b[0m\u001b[1;33m.\u001b[0m\u001b[0mexists\u001b[0m\u001b[1;33m(\u001b[0m\u001b[0msrc\u001b[0m\u001b[1;33m)\u001b[0m\u001b[1;33m:\u001b[0m\u001b[1;33m\u001b[0m\u001b[0m\n\u001b[1;32m---> 10\u001b[1;33m             \u001b[0mdownload\u001b[0m\u001b[1;33m(\u001b[0m\u001b[0marticle\u001b[0m\u001b[1;33m[\u001b[0m\u001b[1;34m\"full_text_link\"\u001b[0m\u001b[1;33m]\u001b[0m\u001b[1;33m,\u001b[0m\u001b[0msrc\u001b[0m\u001b[1;33m)\u001b[0m\u001b[1;33m\u001b[0m\u001b[0m\n\u001b[0m\u001b[0;32m     11\u001b[0m         \u001b[0mshutil\u001b[0m\u001b[1;33m.\u001b[0m\u001b[0mcopy\u001b[0m\u001b[1;33m(\u001b[0m\u001b[0msrc\u001b[0m\u001b[1;33m,\u001b[0m\u001b[0mdst\u001b[0m\u001b[1;33m)\u001b[0m\u001b[1;33m\u001b[0m\u001b[0m\n\u001b[0;32m     12\u001b[0m \u001b[1;31m#         os.system(cmd)\u001b[0m\u001b[1;33m\u001b[0m\u001b[1;33m\u001b[0m\u001b[0m\n",
      "\u001b[1;32m<ipython-input-10-2d679e275c69>\u001b[0m in \u001b[0;36mdownload\u001b[1;34m(url, fpath)\u001b[0m\n\u001b[0;32m      2\u001b[0m     \u001b[1;32mtry\u001b[0m\u001b[1;33m:\u001b[0m\u001b[1;33m\u001b[0m\u001b[0m\n\u001b[0;32m      3\u001b[0m         \u001b[0mres\u001b[0m\u001b[1;33m=\u001b[0m\u001b[0mrequests\u001b[0m\u001b[1;33m.\u001b[0m\u001b[0mget\u001b[0m\u001b[1;33m(\u001b[0m\u001b[0murl\u001b[0m\u001b[1;33m,\u001b[0m\u001b[0mproxies\u001b[0m\u001b[1;33m=\u001b[0m\u001b[1;33m{\u001b[0m\u001b[1;34m\"http\"\u001b[0m\u001b[1;33m:\u001b[0m\u001b[1;34m\"127.0.0.1:10800\"\u001b[0m\u001b[1;33m}\u001b[0m\u001b[1;33m)\u001b[0m\u001b[1;33m\u001b[0m\u001b[0m\n\u001b[1;32m----> 4\u001b[1;33m         \u001b[1;32massert\u001b[0m \u001b[0mres\u001b[0m\u001b[1;33m.\u001b[0m\u001b[0mok\u001b[0m\u001b[1;33m\u001b[0m\u001b[0m\n\u001b[0m\u001b[0;32m      5\u001b[0m         \u001b[1;32mwith\u001b[0m \u001b[0mopen\u001b[0m\u001b[1;33m(\u001b[0m\u001b[0mfpath\u001b[0m\u001b[1;33m,\u001b[0m\u001b[1;34m\"wb\"\u001b[0m\u001b[1;33m)\u001b[0m \u001b[1;32mas\u001b[0m \u001b[0mfp\u001b[0m\u001b[1;33m:\u001b[0m\u001b[1;33m\u001b[0m\u001b[0m\n\u001b[0;32m      6\u001b[0m             \u001b[0mfp\u001b[0m\u001b[1;33m.\u001b[0m\u001b[0mwrite\u001b[0m\u001b[1;33m(\u001b[0m\u001b[0mres\u001b[0m\u001b[1;33m.\u001b[0m\u001b[0mcontent\u001b[0m\u001b[1;33m)\u001b[0m\u001b[1;33m\u001b[0m\u001b[0m\n",
      "\u001b[1;31mAssertionError\u001b[0m: "
     ]
    }
   ],
   "source": [
    "# cp to target\n",
    "target=\"eccv2018-cn\"\n",
    "if not path.exists(target):\n",
    "    os.mkdir(\"eccv2018-cn\")\n",
    "for article in article_list:\n",
    "    if article[\"file_name\"]:\n",
    "        src=path.join(full_text_dir, article[\"file_name\"])\n",
    "        dst=path.join(target,article[\"file_name\"])\n",
    "        if not path.exists(src):\n",
    "            download(article[\"full_text_link\"],src)\n",
    "        shutil.copy(src,dst)\n",
    "#         os.system(cmd)"
   ]
  },
  {
   "cell_type": "code",
   "execution_count": 34,
   "metadata": {},
   "outputs": [
    {
     "data": {
      "text/plain": [
       "False"
      ]
     },
     "execution_count": 34,
     "metadata": {},
     "output_type": "execute_result"
    }
   ],
   "source": [
    "path.exists(\"full_text\\\\Shaofei_Wang_Accelerating_Dynamic_Programs_ECCV_2018_paper.pdf\")"
   ]
  },
  {
   "cell_type": "code",
   "execution_count": null,
   "metadata": {},
   "outputs": [],
   "source": []
  }
 ],
 "metadata": {
  "kernelspec": {
   "display_name": "Python [conda env:webCrawel]",
   "language": "python",
   "name": "conda-env-webCrawel-py"
  },
  "language_info": {
   "codemirror_mode": {
    "name": "ipython",
    "version": 3
   },
   "file_extension": ".py",
   "mimetype": "text/x-python",
   "name": "python",
   "nbconvert_exporter": "python",
   "pygments_lexer": "ipython3",
   "version": "3.6.5"
  }
 },
 "nbformat": 4,
 "nbformat_minor": 2
}
