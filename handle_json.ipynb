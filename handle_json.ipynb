{
 "cells": [
  {
   "cell_type": "code",
   "execution_count": 1,
   "metadata": {},
   "outputs": [],
   "source": [
    "import json\n",
    "import xlwt\n",
    "import time\n",
    "import os\n",
    "import re\n",
    "from html import unescape\n",
    "from googletrans import Translator"
   ]
  },
  {
   "cell_type": "code",
   "execution_count": 2,
   "metadata": {},
   "outputs": [],
   "source": [
    "output_dir=\"output\"\n",
    "if not os.path.exists(output_dir):\n",
    "    os.mkdir(output_dir)"
   ]
  },
  {
   "cell_type": "code",
   "execution_count": 3,
   "metadata": {},
   "outputs": [],
   "source": [
    "now=lambda :time.strftime(\"%Y-%m-%d-%H-%M-%S\", time.localtime())"
   ]
  },
  {
   "cell_type": "code",
   "execution_count": 4,
   "metadata": {},
   "outputs": [],
   "source": [
    "def load_json(json_fname):\n",
    "    with open(json_fname,encoding=\"utf8\") as fp:\n",
    "        return json.load(fp)"
   ]
  },
  {
   "cell_type": "code",
   "execution_count": 5,
   "metadata": {},
   "outputs": [],
   "source": [
    "title_key=lambda title:re.sub(\"\\W\",\"\",title.lower(),)"
   ]
  },
  {
   "cell_type": "code",
   "execution_count": 12,
   "metadata": {},
   "outputs": [],
   "source": [
    "articles_fname=\"article_list.json\""
   ]
  },
  {
   "cell_type": "markdown",
   "metadata": {},
   "source": [
    "# from EI result to articles_list.json"
   ]
  },
  {
   "cell_type": "code",
   "execution_count": 6,
   "metadata": {},
   "outputs": [],
   "source": [
    "json18=\"CC219419-China&HK.json\"\n",
    "json16=\"CC184029-China&HK.json\"\n",
    "article_list=load_json(json16)[\"results\"]+load_json(json18)[\"results\"]"
   ]
  },
  {
   "cell_type": "code",
   "execution_count": 7,
   "metadata": {},
   "outputs": [
    {
     "name": "stdout",
     "output_type": "stream",
     "text": [
      "preface\n",
      "preface\n",
      "video re-localization\n"
     ]
    }
   ],
   "source": [
    "i=0\n",
    "while i<len(article_list):\n",
    "    title=article_list[i][\"titleNoHighlight\"].lower().strip()\n",
    "    if len(title.split(\" \"))<3:\n",
    "        print(title)\n",
    "    if title in {\"preface\"}:\n",
    "        article_list.pop(i)\n",
    "    else:\n",
    "        i+=1"
   ]
  },
  {
   "cell_type": "code",
   "execution_count": 8,
   "metadata": {},
   "outputs": [],
   "source": [
    "article_ids={}\n",
    "for article in article_list:\n",
    "    c=0\n",
    "    year=article[\"yr\"]\n",
    "    article_id=article_ids.setdefault(year,0)+1\n",
    "    article_ids[year]=article_id\n",
    "    article[\"myid\"]=f\"ECCV{year}{article_id:03}\""
   ]
  },
  {
   "cell_type": "code",
   "execution_count": 9,
   "metadata": {},
   "outputs": [],
   "source": [
    "with open(\"affils_trans_map.json\") as fp:\n",
    "    affils_trans_map=json.load(fp)"
   ]
  },
  {
   "cell_type": "code",
   "execution_count": 10,
   "metadata": {},
   "outputs": [],
   "source": [
    "links_map=load_json(\"links_map.json\")\n",
    "for article in article_list:\n",
    "    title=article[\"titleNoHighlight\"]\n",
    "    link_d=links_map.get(title_key(title),{})\n",
    "    article[\"full_text_link\"]=link_d.get(\"link\",\"\")\n",
    "    article[\"file_name\"]=link_d.get(\"file_name\",\"\")"
   ]
  },
  {
   "cell_type": "code",
   "execution_count": 13,
   "metadata": {},
   "outputs": [],
   "source": [
    "with open(articles_fname,\"w\") as fp:\n",
    "    json.dump({\"articles\":article_list,\"affils\":affils_trans_map},fp,indent=2)"
   ]
  },
  {
   "cell_type": "markdown",
   "metadata": {},
   "source": [
    "# from article_list.json to excel"
   ]
  },
  {
   "cell_type": "code",
   "execution_count": 14,
   "metadata": {},
   "outputs": [],
   "source": [
    "translator=Translator(service_urls=[\"translate.google.cn\"])\n",
    "_trans=lambda source:translator.translate(source ,dest=\"zh-cn\",src=\"en\").text\n",
    "def trans(source):\n",
    "    if source not in trans.map:\n",
    "        trans.map[source]=_trans(unescape(source))\n",
    "        print(f\"{source} -> {trans.map[source]}\")\n",
    "        with open(articles_fname,\"w\") as fp:\n",
    "            json.dump(trans.json,fp)\n",
    "    return unescape(trans.map[source])\n",
    "\n",
    "with open(articles_fname) as fp:\n",
    "    trans.json=json.load(fp)\n",
    "    trans.map=trans.json[\"affils\"]"
   ]
  },
  {
   "cell_type": "code",
   "execution_count": 15,
   "metadata": {},
   "outputs": [],
   "source": [
    "# def text_link(title)->str:\n",
    "#     return text_link.map.get(title.lower(),{}).get(\"link\",\"\")\n",
    "\n",
    "# with open(\"links_map.json\") as fp:\n",
    "#     text_link.map=json.load(fp)"
   ]
  },
  {
   "cell_type": "code",
   "execution_count": 16,
   "metadata": {},
   "outputs": [],
   "source": [
    "def text_link(title)->str:\n",
    "    return text_link.map.get(title.lower(),{}).get(\"link\",\"\")\n",
    "\n",
    "with open(\"links_map.json\") as fp:\n",
    "    text_link.map=json.load(fp)"
   ]
  },
  {
   "cell_type": "code",
   "execution_count": 17,
   "metadata": {},
   "outputs": [],
   "source": [
    "article_list_dict=load_json(articles_fname)\n",
    "article_list=article_list_dict[\"articles\"]\n",
    "# html_parser=HTMLParser()\n",
    "wb=xlwt.Workbook(encoding=\"utf8\")\n",
    "ws=wb.add_sheet(\"论文及作者\")\n",
    "\n",
    "# write head_article\n",
    "head_article=[\"编号\",\"文章名称\",\"发表时间\",\"文件名\",\"doi\"]\n",
    "# write head_authors\n",
    "head_author=[\"作者姓名\",\"邮箱\",\"单位\",\"单位-英文\"]\n",
    "\n",
    "width_list=[14,40,8,30,15\n",
    "            ,15,15,30,30]\n",
    "r=0\n",
    "c=0\n",
    "for head in head_article+head_author:\n",
    "    ws.write(r,c,head)\n",
    "    ws.col(c).width=width_list[c]*256\n",
    "    c+=1\n",
    "r+=1\n",
    "\n",
    "# write article\n",
    "for article in article_list:\n",
    "    c=0\n",
    "    year=article[\"yr\"]\n",
    "    article_id=article[\"myid\"]\n",
    "    title=unescape(article['titleNoHighlight'])\n",
    "    \n",
    "    for attr in [\n",
    "        article[\"myid\"],\n",
    "        title,\n",
    "        year,\n",
    "        article[\"file_name\"],\n",
    "        article[\"doi\"],\n",
    "    ]:\n",
    "        attr=unescape(attr)\n",
    "        ws.write(r,c,attr)\n",
    "        \n",
    "        c+=1\n",
    "#     ca=c\n",
    "    for author in article[\"authors\"]:\n",
    "        name=author[\"name\"]\n",
    "        email=author[\"email\"]\n",
    "        affils_list=[unescape(aff[\"name\"])  for aff in author[\"affils\"]]\n",
    "        affils=\"; \".join([trans(aff) for aff in affils_list])\n",
    "        affils_en=\"; \".join(affils_list)\n",
    "        ca=c\n",
    "        for attr in [name,email,affils,affils_en]:\n",
    "            attr=unescape(attr)\n",
    "            ws.write(r,ca,attr)\n",
    "            ca+=1\n",
    "        r+=1\n",
    "    \n",
    "    \n",
    "wb.save(os.path.join(output_dir,f\"output{now()}.xls\"))"
   ]
  },
  {
   "cell_type": "code",
   "execution_count": null,
   "metadata": {},
   "outputs": [],
   "source": []
  }
 ],
 "metadata": {
  "kernelspec": {
   "display_name": "Python [conda env:webCrawel]",
   "language": "python",
   "name": "conda-env-webCrawel-py"
  },
  "language_info": {
   "codemirror_mode": {
    "name": "ipython",
    "version": 3
   },
   "file_extension": ".py",
   "mimetype": "text/x-python",
   "name": "python",
   "nbconvert_exporter": "python",
   "pygments_lexer": "ipython3",
   "version": "3.6.5"
  }
 },
 "nbformat": 4,
 "nbformat_minor": 2
}
