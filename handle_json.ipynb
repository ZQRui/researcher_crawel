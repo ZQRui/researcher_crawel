{
 "cells": [
  {
   "cell_type": "code",
   "execution_count": 1,
   "metadata": {},
   "outputs": [],
   "source": [
    "import json\n",
    "import xlwt\n",
    "import time\n",
    "import os\n",
    "from html import unescape"
   ]
  },
  {
   "cell_type": "code",
   "execution_count": 2,
   "metadata": {},
   "outputs": [],
   "source": [
    "output_dir=\"output\"\n",
    "if not os.path.exists(output_dir):\n",
    "    os.mkdir(output_dir)"
   ]
  },
  {
   "cell_type": "code",
   "execution_count": 3,
   "metadata": {},
   "outputs": [],
   "source": [
    "now=lambda :time.strftime(\"%Y-%m-%d-%H-%M-%S\", time.localtime())"
   ]
  },
  {
   "cell_type": "code",
   "execution_count": 9,
   "metadata": {},
   "outputs": [],
   "source": [
    "json_fname=\"CC219419-10.json\"\n",
    "json_fname=\"CC219419-China&HK.json\""
   ]
  },
  {
   "cell_type": "code",
   "execution_count": 11,
   "metadata": {},
   "outputs": [],
   "source": [
    "with open(json_fname,encoding=\"utf8\") as fp:\n",
    "    conv=json.load(fp)"
   ]
  },
  {
   "cell_type": "code",
   "execution_count": 12,
   "metadata": {},
   "outputs": [],
   "source": [
    "article=conv[\"results\"][9]"
   ]
  },
  {
   "cell_type": "code",
   "execution_count": 13,
   "metadata": {},
   "outputs": [
    {
     "data": {
      "text/plain": [
       "[{'id': 1,\n",
       "  'name': 'Lyu, Pengyuan',\n",
       "  'searchlink': '/search/submit.url?CID=expertSearchCitationFormat&implicit=true&usageOrigin=searchresults&category=authorsearch&searchWord1={Lyu%2C+Pengyuan}+WN+AU&database=1&yearselect=yearrange&searchtype=Expert&sort=yr',\n",
       "  'email': 'lvpyuan@gmail.com',\n",
       "  'affils': [{'id': 1,\n",
       "    'name': 'Huazhong University of Science and Technology, Wuhan, China'}],\n",
       "  'co': None,\n",
       "  'nameupper': 'LYU, PENGYUAN'},\n",
       " {'id': 1,\n",
       "  'name': 'Liao, Minghui',\n",
       "  'searchlink': '/search/submit.url?CID=expertSearchCitationFormat&implicit=true&usageOrigin=searchresults&category=authorsearch&searchWord1={Liao%2C+Minghui}+WN+AU&database=1&yearselect=yearrange&searchtype=Expert&sort=yr',\n",
       "  'email': 'mhliao@hust.edu.cn',\n",
       "  'affils': [{'id': 1,\n",
       "    'name': 'Huazhong University of Science and Technology, Wuhan, China'}],\n",
       "  'co': None,\n",
       "  'nameupper': 'LIAO, MINGHUI'},\n",
       " {'id': 2,\n",
       "  'name': 'Yao, Cong',\n",
       "  'searchlink': '/search/submit.url?CID=expertSearchCitationFormat&implicit=true&usageOrigin=searchresults&category=authorsearch&searchWord1={Yao%2C+Cong}+WN+AU&database=1&yearselect=yearrange&searchtype=Expert&sort=yr',\n",
       "  'email': 'yaocong2010@gmail.com',\n",
       "  'affils': [{'id': 2,\n",
       "    'name': 'Megvii (Face++) Technology Inc., Beijing, China'}],\n",
       "  'co': None,\n",
       "  'nameupper': 'YAO, CONG'},\n",
       " {'id': 2,\n",
       "  'name': 'Wu, Wenhao',\n",
       "  'searchlink': '/search/submit.url?CID=expertSearchCitationFormat&implicit=true&usageOrigin=searchresults&category=authorsearch&searchWord1={Wu%2C+Wenhao}+WN+AU&database=1&yearselect=yearrange&searchtype=Expert&sort=yr',\n",
       "  'email': 'wwh@megvii.com',\n",
       "  'affils': [{'id': 2,\n",
       "    'name': 'Megvii (Face++) Technology Inc., Beijing, China'}],\n",
       "  'co': None,\n",
       "  'nameupper': 'WU, WENHAO'},\n",
       " {'id': 1,\n",
       "  'name': 'Bai, Xiang',\n",
       "  'searchlink': '/search/submit.url?CID=expertSearchCitationFormat&implicit=true&usageOrigin=searchresults&category=authorsearch&searchWord1={Bai%2C+Xiang}+WN+AU&database=1&yearselect=yearrange&searchtype=Expert&sort=yr',\n",
       "  'email': 'xbai@hust.edu.cn',\n",
       "  'affils': [{'id': 1,\n",
       "    'name': 'Huazhong University of Science and Technology, Wuhan, China'}],\n",
       "  'co': None,\n",
       "  'nameupper': 'BAI, XIANG'}]"
      ]
     },
     "execution_count": 13,
     "metadata": {},
     "output_type": "execute_result"
    }
   ],
   "source": [
    "article[\"authors\"]"
   ]
  },
  {
   "cell_type": "code",
   "execution_count": null,
   "metadata": {},
   "outputs": [],
   "source": []
  },
  {
   "cell_type": "code",
   "execution_count": 15,
   "metadata": {},
   "outputs": [],
   "source": [
    "# html_parser=HTMLParser()\n",
    "year=2018\n",
    "wb=xlwt.Workbook(encoding=\"utf8\")\n",
    "ws=wb.add_sheet(\"论文及作者\")\n",
    "\n",
    "# write head_article\n",
    "head_article=[\"编号\",\"文章名称\",\"发表时间\"]\n",
    "# write head_authors\n",
    "head_author=[\"作者姓名\",\"邮箱\",\"单位\"]\n",
    "\n",
    "width_list=[8,40,8,15,15,30]\n",
    "r=0\n",
    "c=0\n",
    "for head in head_article+head_author:\n",
    "    ws.write(r,c,head)\n",
    "    ws.col(c).width=width_list[c]*256\n",
    "    c+=1\n",
    "r+=1\n",
    "\n",
    "# write article\n",
    "article_id=1\n",
    "for article in conv[\"results\"]:\n",
    "    c=0\n",
    "    for attr in [f\"{year}{article_id:03}\",article['titleNoHighlight'],f\"{year}\"]:\n",
    "        attr=unescape(attr)\n",
    "        ws.write(r,c,attr)\n",
    "        \n",
    "        c+=1\n",
    "#     ca=c\n",
    "    for author in article[\"authors\"]:\n",
    "        name=author[\"name\"]\n",
    "        email=author[\"email\"]\n",
    "        affils=\";\".join([aff[\"name\"]  for aff in author[\"affils\"]])\n",
    "        ca=c\n",
    "        for attr in [name,email,affils]:\n",
    "            attr=unescape(attr)\n",
    "            ws.write(r,ca,attr)\n",
    "            ca+=1\n",
    "        r+=1\n",
    "    article_id+=1\n",
    "    \n",
    "wb.save(os.path.join(output_dir,f\"output{now()}.xls\"))"
   ]
  },
  {
   "cell_type": "code",
   "execution_count": null,
   "metadata": {},
   "outputs": [],
   "source": []
  }
 ],
 "metadata": {
  "kernelspec": {
   "display_name": "Python [conda env:webCrawel]",
   "language": "python",
   "name": "conda-env-webCrawel-py"
  },
  "language_info": {
   "codemirror_mode": {
    "name": "ipython",
    "version": 3
   },
   "file_extension": ".py",
   "mimetype": "text/x-python",
   "name": "python",
   "nbconvert_exporter": "python",
   "pygments_lexer": "ipython3",
   "version": "3.6.5"
  }
 },
 "nbformat": 4,
 "nbformat_minor": 2
}
